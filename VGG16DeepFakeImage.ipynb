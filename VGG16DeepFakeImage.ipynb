{
 "cells": [
  {
   "cell_type": "code",
   "execution_count": 1,
   "id": "099a4fbe-eccd-441d-982c-3e0a38e81750",
   "metadata": {},
   "outputs": [
    {
     "data": {
      "text/plain": [
       "0"
      ]
     },
     "execution_count": 1,
     "metadata": {},
     "output_type": "execute_result"
    }
   ],
   "source": [
    "import gc\n",
    "import tensorflow as tf\n",
    "\n",
    "tf.keras.backend.clear_session()\n",
    "import gc\n",
    "\n",
    "gc.collect()\n"
   ]
  },
  {
   "cell_type": "code",
   "execution_count": 2,
   "id": "4c5e4c61-0853-4a11-9620-c0dd659fac16",
   "metadata": {},
   "outputs": [],
   "source": [
    "from tensorflow.keras import backend as K\n",
    "K.clear_session()"
   ]
  },
  {
   "cell_type": "code",
   "execution_count": 3,
   "id": "8e8793da-4292-45d2-835e-7d7bb0b59f37",
   "metadata": {},
   "outputs": [
    {
     "name": "stdout",
     "output_type": "stream",
     "text": [
      "[PhysicalDevice(name='/physical_device:CPU:0', device_type='CPU'), PhysicalDevice(name='/physical_device:GPU:0', device_type='GPU')]\n",
      "True\n"
     ]
    }
   ],
   "source": [
    "print(tf.config.list_physical_devices())\n",
    "print(tf.test.is_built_with_cuda())"
   ]
  },
  {
   "cell_type": "code",
   "execution_count": 17,
   "id": "76bca8e3-c877-4acc-9d8e-21ce15c67011",
   "metadata": {},
   "outputs": [],
   "source": [
    "import numpy as np\n",
    "from tensorflow import keras\n",
    "from tensorflow.keras.models import Sequential\n",
    "from tensorflow.keras.layers import Activation, Dense ,Flatten, Dropout\n",
    "from tensorflow.keras.optimizers import Adam\n",
    "from tensorflow.keras.metrics import categorical_crossentropy\n",
    "%matplotlib inline \n",
    "from sklearn.metrics import confusion_matrix\n",
    "import itertools\n",
    "import matplotlib.pyplot as plt\n",
    "from tensorflow.keras.preprocessing.image import ImageDataGenerator\n",
    "from tensorflow.keras.models import Model\n",
    "from sklearn.metrics import accuracy_score"
   ]
  },
  {
   "cell_type": "code",
   "execution_count": 5,
   "id": "361df793-ba7c-4c4e-b672-e7a50beb850d",
   "metadata": {},
   "outputs": [],
   "source": [
    "import os\n",
    "import random\n",
    "import shutil"
   ]
  },
  {
   "cell_type": "code",
   "execution_count": 6,
   "id": "33719736-31c3-4849-8f19-86a57c11da1c",
   "metadata": {},
   "outputs": [],
   "source": [
    "# Define the original directories\n",
    "real_dir = r\"E:\\Datasets\\deep fake\\Imagec_complwtw\\Images\\Train\\Real\"\n",
    "fake_dir = r\"E:\\Datasets\\deep fake\\Imagec_complwtw\\Images\\Train\\Fake\""
   ]
  },
  {
   "cell_type": "code",
   "execution_count": 7,
   "id": "b21a693d-1852-4e01-8495-5fcabac6c6f1",
   "metadata": {},
   "outputs": [],
   "source": [
    "\n",
    "# Define the new base directory for the split dataset\n",
    "base_dir = r\"E:\\Datasets\\deep_fake_split\"\n",
    "os.makedirs(base_dir, exist_ok=True)"
   ]
  },
  {
   "cell_type": "code",
   "execution_count": 8,
   "id": "33e994e6-e02f-4bc7-a758-ca9a475fae07",
   "metadata": {},
   "outputs": [],
   "source": [
    "# Create the subdirectories\n",
    "dirs = ['train', 'test', 'valid']\n",
    "categories = ['Real', 'Fake']"
   ]
  },
  {
   "cell_type": "code",
   "execution_count": 8,
   "id": "33072e64-fc44-4e28-bea8-49a38cce60b8",
   "metadata": {},
   "outputs": [],
   "source": [
    "for dir_name in dirs:\n",
    "    for category in categories:\n",
    "        os.makedirs(os.path.join(base_dir, dir_name, category), exist_ok=True)"
   ]
  },
  {
   "cell_type": "code",
   "execution_count": 9,
   "id": "5d592e56-05dd-4469-b7f4-679813ee039f",
   "metadata": {},
   "outputs": [],
   "source": [
    "# Function to copy images to a specific directory\n",
    "def copy_images(src_dir, dest_dir, images):\n",
    "    for image in images:\n",
    "        shutil.copy(os.path.join(src_dir, image), os.path.join(dest_dir, image))"
   ]
  },
  {
   "cell_type": "code",
   "execution_count": 10,
   "id": "a78722e8-0371-43af-b1b9-2cd3af27c7ab",
   "metadata": {},
   "outputs": [],
   "source": [
    "# Function to split and move data\n",
    "def split_data(src_dir, train_size, test_size, valid_size):\n",
    "    images = [img for img in os.listdir(src_dir) if img.endswith(('jpg', 'jpeg', 'png'))]\n",
    "    random.shuffle(images)\n",
    "    \n",
    "    train_images = images[:train_size]\n",
    "    test_images = images[train_size:train_size + test_size]\n",
    "    valid_images = images[train_size + test_size:train_size + test_size + valid_size]\n",
    "    \n",
    "    return train_images, test_images, valid_images"
   ]
  },
  {
   "cell_type": "code",
   "execution_count": 11,
   "id": "99d7c392-d3da-41b3-9769-a505672cf282",
   "metadata": {},
   "outputs": [],
   "source": [
    "# Define the number of images for each subset based on total size of 20,000 images\n",
    "train_size = 14000  # 70% of the data\n",
    "test_size = 3000    # 15% of the data\n",
    "valid_size = 3000   # 15% of the data"
   ]
  },
  {
   "cell_type": "code",
   "execution_count": 16,
   "id": "f81314de-f4f7-4d9f-b4ac-864d0ed71a9b",
   "metadata": {},
   "outputs": [
    {
     "name": "stdout",
     "output_type": "stream",
     "text": [
      "Data split into train/test/valid successfully.\n"
     ]
    }
   ],
   "source": [
    "# Split and copy images for Real\n",
    "real_train_images, real_test_images, real_valid_images = split_data(real_dir, train_size, test_size, valid_size)\n",
    "copy_images(real_dir, os.path.join(base_dir, 'train', 'Real'), real_train_images)\n",
    "copy_images(real_dir, os.path.join(base_dir, 'test', 'Real'), real_test_images)\n",
    "copy_images(real_dir, os.path.join(base_dir, 'valid', 'Real'), real_valid_images)\n",
    "\n",
    "# Split and copy images for Fake\n",
    "fake_train_images, fake_test_images, fake_valid_images = split_data(fake_dir, train_size, test_size, valid_size)\n",
    "copy_images(fake_dir, os.path.join(base_dir, 'train', 'Fake'), fake_train_images)\n",
    "copy_images(fake_dir, os.path.join(base_dir, 'test', 'Fake'), fake_test_images)\n",
    "copy_images(fake_dir, os.path.join(base_dir, 'valid', 'Fake'), fake_valid_images)\n",
    "\n",
    "print(\"Data split into train/test/valid successfully.\")\n"
   ]
  },
  {
   "cell_type": "code",
   "execution_count": 15,
   "id": "6ffd2e8b-381b-4818-b640-52b73e037743",
   "metadata": {},
   "outputs": [],
   "source": [
    "train_dir = r\"E:\\Datasets\\deep_fake_split\\train\"\n",
    "valid_dir = r\"E:\\Datasets\\deep_fake_split\\valid\"\n",
    "test_dir = r\"E:\\Datasets\\deep_fake_split\\test\""
   ]
  },
  {
   "cell_type": "code",
   "execution_count": 18,
   "id": "110bd14d-5d64-41ba-970d-27283eba203c",
   "metadata": {},
   "outputs": [
    {
     "name": "stdout",
     "output_type": "stream",
     "text": [
      "Found 28000 images belonging to 2 classes.\n",
      "Found 6000 images belonging to 2 classes.\n",
      "Found 6000 images belonging to 2 classes.\n"
     ]
    }
   ],
   "source": [
    "train_batches = ImageDataGenerator(preprocessing_function=tf.keras.applications.vgg16.preprocess_input).flow_from_directory(\n",
    "    directory=train_dir,\n",
    "    target_size=(224, 224),\n",
    "    classes=['Real', 'Fake'],  # Update to Real and Fake\n",
    "    batch_size=20\n",
    ")\n",
    "\n",
    "valid_batches = ImageDataGenerator(preprocessing_function=tf.keras.applications.vgg16.preprocess_input).flow_from_directory(\n",
    "    directory=valid_dir,\n",
    "    target_size=(224, 224),\n",
    "    classes=['Real', 'Fake'],  # Update to Real and Fake\n",
    "    batch_size=20\n",
    ")\n",
    "\n",
    "test_batches = ImageDataGenerator(preprocessing_function=tf.keras.applications.vgg16.preprocess_input).flow_from_directory(\n",
    "    directory=test_dir,\n",
    "    target_size=(224, 224),\n",
    "    classes=['Real', 'Fake'],  # Update to Real and Fake\n",
    "    batch_size=20,\n",
    "    shuffle=False  # Shuffle is typically set to False for test data\n",
    ")"
   ]
  },
  {
   "cell_type": "code",
   "execution_count": 11,
   "id": "05756725-5081-41cf-ae40-226431563dc0",
   "metadata": {},
   "outputs": [],
   "source": [
    "with tf.device('/CPU:0'):\n",
    "    vgg16_base = tf.keras.applications.VGG16(include_top=False, input_shape=(224, 224, 3))"
   ]
  },
  {
   "cell_type": "code",
   "execution_count": 12,
   "id": "d9d2227c-fd06-415c-bbc2-9ff5c13c28be",
   "metadata": {
    "scrolled": true
   },
   "outputs": [
    {
     "name": "stdout",
     "output_type": "stream",
     "text": [
      "Model: \"vgg16\"\n",
      "_________________________________________________________________\n",
      " Layer (type)                Output Shape              Param #   \n",
      "=================================================================\n",
      " input_1 (InputLayer)        [(None, 224, 224, 3)]     0         \n",
      "                                                                 \n",
      " block1_conv1 (Conv2D)       (None, 224, 224, 64)      1792      \n",
      "                                                                 \n",
      " block1_conv2 (Conv2D)       (None, 224, 224, 64)      36928     \n",
      "                                                                 \n",
      " block1_pool (MaxPooling2D)  (None, 112, 112, 64)      0         \n",
      "                                                                 \n",
      " block2_conv1 (Conv2D)       (None, 112, 112, 128)     73856     \n",
      "                                                                 \n",
      " block2_conv2 (Conv2D)       (None, 112, 112, 128)     147584    \n",
      "                                                                 \n",
      " block2_pool (MaxPooling2D)  (None, 56, 56, 128)       0         \n",
      "                                                                 \n",
      " block3_conv1 (Conv2D)       (None, 56, 56, 256)       295168    \n",
      "                                                                 \n",
      " block3_conv2 (Conv2D)       (None, 56, 56, 256)       590080    \n",
      "                                                                 \n",
      " block3_conv3 (Conv2D)       (None, 56, 56, 256)       590080    \n",
      "                                                                 \n",
      " block3_pool (MaxPooling2D)  (None, 28, 28, 256)       0         \n",
      "                                                                 \n",
      " block4_conv1 (Conv2D)       (None, 28, 28, 512)       1180160   \n",
      "                                                                 \n",
      " block4_conv2 (Conv2D)       (None, 28, 28, 512)       2359808   \n",
      "                                                                 \n",
      " block4_conv3 (Conv2D)       (None, 28, 28, 512)       2359808   \n",
      "                                                                 \n",
      " block4_pool (MaxPooling2D)  (None, 14, 14, 512)       0         \n",
      "                                                                 \n",
      " block5_conv1 (Conv2D)       (None, 14, 14, 512)       2359808   \n",
      "                                                                 \n",
      " block5_conv2 (Conv2D)       (None, 14, 14, 512)       2359808   \n",
      "                                                                 \n",
      " block5_conv3 (Conv2D)       (None, 14, 14, 512)       2359808   \n",
      "                                                                 \n",
      " block5_pool (MaxPooling2D)  (None, 7, 7, 512)         0         \n",
      "                                                                 \n",
      "=================================================================\n",
      "Total params: 14,714,688\n",
      "Trainable params: 14,714,688\n",
      "Non-trainable params: 0\n",
      "_________________________________________________________________\n"
     ]
    }
   ],
   "source": [
    "vgg16_base.summary()"
   ]
  },
  {
   "cell_type": "code",
   "execution_count": 18,
   "id": "cf987f0a-e20a-40fb-896a-e3daccdbaf6d",
   "metadata": {},
   "outputs": [],
   "source": [
    "# Freeze the convolutional base\n",
    "vgg16_base.trainable = False"
   ]
  },
  {
   "cell_type": "code",
   "execution_count": 19,
   "id": "7cbf9798-1606-426b-831b-15fa74416eea",
   "metadata": {},
   "outputs": [],
   "source": [
    "model = tf.keras.Sequential([\n",
    "    vgg16_base,                           \n",
    "    Flatten(),                            \n",
    "    Dense(units=256, activation='relu'),  \n",
    "    Dense(units=128, activation='relu'), \n",
    "    Dense(units=2, activation='softmax') \n",
    "])\n"
   ]
  },
  {
   "cell_type": "code",
   "execution_count": 20,
   "id": "53c34d28-d9de-46a0-915e-22db9bb514dc",
   "metadata": {},
   "outputs": [],
   "source": [
    "model.compile(optimizer='adam', loss='categorical_crossentropy', metrics=['accuracy'])"
   ]
  },
  {
   "cell_type": "code",
   "execution_count": 22,
   "id": "29d5c0c4-e2c7-48ec-9f08-d4cb7bea93d8",
   "metadata": {},
   "outputs": [
    {
     "name": "stdout",
     "output_type": "stream",
     "text": [
      "Model: \"sequential\"\n",
      "_________________________________________________________________\n",
      " Layer (type)                Output Shape              Param #   \n",
      "=================================================================\n",
      " vgg16 (Functional)          (None, 7, 7, 512)         14714688  \n",
      "                                                                 \n",
      " flatten (Flatten)           (None, 25088)             0         \n",
      "                                                                 \n",
      " dense (Dense)               (None, 256)               6422784   \n",
      "                                                                 \n",
      " dense_1 (Dense)             (None, 128)               32896     \n",
      "                                                                 \n",
      " dense_2 (Dense)             (None, 2)                 258       \n",
      "                                                                 \n",
      "=================================================================\n",
      "Total params: 21,170,626\n",
      "Trainable params: 6,455,938\n",
      "Non-trainable params: 14,714,688\n",
      "_________________________________________________________________\n"
     ]
    }
   ],
   "source": [
    "model.summary()"
   ]
  },
  {
   "cell_type": "code",
   "execution_count": 23,
   "id": "aec4ca13-b0b3-44bc-80e1-9ce8cada57d8",
   "metadata": {},
   "outputs": [],
   "source": [
    "\n",
    "# Define callbacks\n",
    "early_stopping = tf.keras.callbacks.EarlyStopping(monitor='val_loss', patience=2, restore_best_weights=True)"
   ]
  },
  {
   "cell_type": "code",
   "execution_count": 25,
   "id": "d9f75ce6-c09a-48ab-8b4f-8a7736d71987",
   "metadata": {},
   "outputs": [
    {
     "name": "stdout",
     "output_type": "stream",
     "text": [
      "Epoch 1/3\n",
      "1400/1400 [==============================] - 444s 306ms/step - loss: 0.6536 - accuracy: 0.7660 - val_loss: 0.4074 - val_accuracy: 0.8108\n",
      "Epoch 2/3\n",
      "1400/1400 [==============================] - 527s 376ms/step - loss: 0.3635 - accuracy: 0.8536 - val_loss: 0.4245 - val_accuracy: 0.8243\n",
      "Epoch 3/3\n",
      "1400/1400 [==============================] - 510s 364ms/step - loss: 0.2696 - accuracy: 0.8917 - val_loss: 0.4263 - val_accuracy: 0.8155\n"
     ]
    }
   ],
   "source": [
    "history = model.fit(\n",
    "    train_batches,               \n",
    "    validation_data=valid_batches,\n",
    "    epochs=3,                     \n",
    "    batch_size=20,                \n",
    "    callbacks=[early_stopping]  \n",
    ")"
   ]
  },
  {
   "cell_type": "code",
   "execution_count": 26,
   "id": "73171dd5-b1b8-4681-8024-669e670f4a36",
   "metadata": {},
   "outputs": [
    {
     "data": {
      "image/png": "[encoded data removed]",
      "text/plain": [
       "<Figure size 1200x600 with 2 Axes>"
      ]
     },
     "metadata": {},
     "output_type": "display_data"
    }
   ],
   "source": [
    "%matplotlib inline\n",
    "import matplotlib.pyplot as plt\n",
    "\n",
    "# Plot training & validation accuracy values\n",
    "plt.figure(figsize=(12, 6))\n",
    "\n",
    "plt.subplot(1, 2, 1)\n",
    "plt.plot(history.history['accuracy'])\n",
    "plt.plot(history.history['val_accuracy'])\n",
    "plt.title('Model Accuracy')\n",
    "plt.xlabel('Epoch')\n",
    "plt.ylabel('Accuracy')\n",
    "plt.legend(['Train', 'Validation'])\n",
    "\n",
    "# Plot training & validation loss values\n",
    "plt.subplot(1, 2, 2)\n",
    "plt.plot(history.history['loss'])\n",
    "plt.plot(history.history['val_loss'])\n",
    "plt.title('Model Loss')\n",
    "plt.xlabel('Epoch')\n",
    "plt.ylabel('Loss')\n",
    "plt.legend(['Train', 'Validation'])\n",
    "\n",
    "plt.show()\n"
   ]
  },
  {
   "cell_type": "code",
   "execution_count": 28,
   "id": "c62dc65e-5b46-4823-8c47-3eda82169f5c",
   "metadata": {},
   "outputs": [
    {
     "name": "stdout",
     "output_type": "stream",
     "text": [
      "Model saved as '/fake_image_vgg16_model.h5'\n"
     ]
    }
   ],
   "source": [
    "model.save('models/fake_image_vgg16_model_V1.h5')\n",
    "print(\"Model saved as '/fake_image_vgg16_model.h5'\")"
   ]
  },
  {
   "cell_type": "code",
   "execution_count": 29,
   "id": "23c6ee1f-affd-4802-bc27-48bbcfca1354",
   "metadata": {},
   "outputs": [
    {
     "data": {
      "text/plain": [
       "{'Real': 0, 'Fake': 1}"
      ]
     },
     "execution_count": 29,
     "metadata": {},
     "output_type": "execute_result"
    }
   ],
   "source": [
    "test_batches.class_indices"
   ]
  },
  {
   "cell_type": "code",
   "execution_count": 30,
   "id": "ff6fde33-540e-4b62-b57d-929e2a3e6461",
   "metadata": {},
   "outputs": [],
   "source": [
    "predictions = model.predict(x=test_batches,verbose=0)"
   ]
  },
  {
   "cell_type": "code",
   "execution_count": 31,
   "id": "54317b61-162d-4f99-bacf-719c606c228b",
   "metadata": {},
   "outputs": [],
   "source": [
    "predicted_classes = np.argmax(predictions, axis=1)"
   ]
  },
  {
   "cell_type": "code",
   "execution_count": 45,
   "id": "eaef4e63-c549-4ec3-bd76-04f2d4c5c508",
   "metadata": {},
   "outputs": [
    {
     "name": "stdout",
     "output_type": "stream",
     "text": [
      "[0 0 0 ... 1 1 1]\n"
     ]
    }
   ],
   "source": [
    "print(test_batches.classes)"
   ]
  },
  {
   "cell_type": "code",
   "execution_count": 44,
   "id": "0d57a4b3-ffb6-48c6-8c39-d01ecf19cdb5",
   "metadata": {},
   "outputs": [
    {
     "name": "stdout",
     "output_type": "stream",
     "text": [
      "[0 0 0 ... 1 1 1]\n"
     ]
    }
   ],
   "source": [
    "print(predicted_classes)"
   ]
  },
  {
   "cell_type": "code",
   "execution_count": 32,
   "id": "478eef23-a741-4588-8749-33f4f4a6ae37",
   "metadata": {},
   "outputs": [],
   "source": [
    "true_labels = test_batches.classes"
   ]
  },
  {
   "cell_type": "code",
   "execution_count": 35,
   "id": "eacb992f-f82c-4434-9736-11d901f4892e",
   "metadata": {},
   "outputs": [],
   "source": [
    "accuracy = accuracy_score(true_labels, predicted_classes)"
   ]
  },
  {
   "cell_type": "code",
   "execution_count": 36,
   "id": "93fdd189-8519-4daf-a1de-653ac769d4c4",
   "metadata": {},
   "outputs": [
    {
     "name": "stdout",
     "output_type": "stream",
     "text": [
      "Test Data Accuracy: 0.8202\n"
     ]
    }
   ],
   "source": [
    "print(f'Test Data Accuracy: {accuracy:.4f}')"
   ]
  },
  {
   "cell_type": "code",
   "execution_count": 33,
   "id": "4747f1bb-87c7-4b4a-aa28-e27c5bd1e5ed",
   "metadata": {},
   "outputs": [
    {
     "name": "stdout",
     "output_type": "stream",
     "text": [
      "1/1 [==============================] - 0s 264ms/step\n",
      "The image is predicted as: Fake\n"
     ]
    }
   ],
   "source": [
    "import numpy as np\n",
    "from tensorflow.keras.preprocessing import image\n",
    "from tensorflow.keras.models import load_model\n",
    "\n",
    "# Load the trained model\n",
    "model = load_model('models/fake_image_vgg16_model_V1.h5')\n",
    "\n",
    "def predict_image(img_path):\n",
    "    # Load and preprocess the image\n",
    "    img = image.load_img(img_path, target_size=(224, 224))\n",
    "    img_array = image.img_to_array(img)\n",
    "    img_array = np.expand_dims(img_array, axis=0)  # Add batch dimension\n",
    "    img_array = img_array / 255.0  # Normalize the image\n",
    "\n",
    "    # Predict using the model\n",
    "    predictions = model.predict(img_array)\n",
    "    class_idx = np.argmax(predictions, axis=1)[0]\n",
    "    \n",
    "    # Map class index to label\n",
    "    labels = ['Real', 'Fake']\n",
    "    predicted_class = labels[class_idx]\n",
    "    \n",
    "    return predicted_class\n",
    "\n",
    "# Example usage\n",
    "img_path = r\"E:\\Datasets\\deep_fake_split\\test\\Fake\\fake_2113.jpg\"\n",
    "prediction = predict_image(img_path)\n",
    "print(f'The image is predicted as: {prediction}')\n"
   ]
  },
  {
   "cell_type": "code",
   "execution_count": 80,
   "id": "b3f90091-673c-4ecd-9dbd-a964830ffd8a",
   "metadata": {},
   "outputs": [
    {
     "name": "stdout",
     "output_type": "stream",
     "text": [
      "1/1 [==============================] - 0s 38ms/step\n",
      "Raw predictions: [[0.48673442 0.5132656 ]]\n",
      "The image is predicted as: Fake\n"
     ]
    }
   ],
   "source": [
    "import numpy as np\n",
    "from tensorflow.keras.preprocessing import image\n",
    "\n",
    "def predict_image(img_path, model):\n",
    "    # Load and preprocess the image\n",
    "    img = image.load_img(img_path, target_size=(224, 224))\n",
    "    img_array = image.img_to_array(img)\n",
    "    img_array = np.expand_dims(img_array, axis=0)  # Add batch dimension\n",
    "    img_array = img_array / 255.0  # Normalize the image\n",
    "    \n",
    "    # Predict using the model\n",
    "    predictions = model.predict(img_array)\n",
    "    class_idx = np.argmax(predictions, axis=1)[0]\n",
    "    \n",
    "    # Print raw predictions for debugging\n",
    "    print(f'Raw predictions: {predictions}')\n",
    "    \n",
    "    # Map class index to label\n",
    "    labels = ['Real', 'Fake']\n",
    "    predicted_class = labels[class_idx]\n",
    "    \n",
    "    return predicted_class\n",
    "\n",
    "# Example usage\n",
    "img_path = r\"E:\\Datasets\\deep_fake_split\\test\\Fake\\fake_2113.jpg\"\n",
    "prediction = predict_image(img_path, model)\n",
    "print(f'The image is predicted as: {prediction}')\n"
   ]
  },
  {
   "cell_type": "code",
   "execution_count": null,
   "id": "9fc6ccb4-40dc-41ee-bcbc-cacd9a448574",
   "metadata": {},
   "outputs": [],
   "source": []
  },
  {
   "cell_type": "markdown",
   "id": "33693d1a-eb4a-49cb-8d16-ac3c12df397a",
   "metadata": {},
   "source": [
    "Version two with l2 Reguralization"
   ]
  },
  {
   "cell_type": "code",
   "execution_count": 15,
   "id": "d55792f2-1e7e-4b69-a408-6f9e3d07138e",
   "metadata": {},
   "outputs": [],
   "source": [
    "from tensorflow.keras.applications import VGG16\n",
    "with tf.device('/CPU:0'):\n",
    "    vgg16_base = VGG16(weights='imagenet', include_top=False, input_shape=(224, 224, 3))"
   ]
  },
  {
   "cell_type": "code",
   "execution_count": 16,
   "id": "7b0b7a06-e1bf-411c-8eeb-40f8dfd46475",
   "metadata": {},
   "outputs": [],
   "source": [
    "for layer in vgg16_base.layers:\n",
    "    layer.trainable = False"
   ]
  },
  {
   "cell_type": "code",
   "execution_count": 17,
   "id": "53cfffde-961b-4b3d-987f-fd3eeec2e4ce",
   "metadata": {},
   "outputs": [
    {
     "name": "stdout",
     "output_type": "stream",
     "text": [
      "Model: \"vgg16\"\n",
      "_________________________________________________________________\n",
      " Layer (type)                Output Shape              Param #   \n",
      "=================================================================\n",
      " input_2 (InputLayer)        [(None, 224, 224, 3)]     0         \n",
      "                                                                 \n",
      " block1_conv1 (Conv2D)       (None, 224, 224, 64)      1792      \n",
      "                                                                 \n",
      " block1_conv2 (Conv2D)       (None, 224, 224, 64)      36928     \n",
      "                                                                 \n",
      " block1_pool (MaxPooling2D)  (None, 112, 112, 64)      0         \n",
      "                                                                 \n",
      " block2_conv1 (Conv2D)       (None, 112, 112, 128)     73856     \n",
      "                                                                 \n",
      " block2_conv2 (Conv2D)       (None, 112, 112, 128)     147584    \n",
      "                                                                 \n",
      " block2_pool (MaxPooling2D)  (None, 56, 56, 128)       0         \n",
      "                                                                 \n",
      " block3_conv1 (Conv2D)       (None, 56, 56, 256)       295168    \n",
      "                                                                 \n",
      " block3_conv2 (Conv2D)       (None, 56, 56, 256)       590080    \n",
      "                                                                 \n",
      " block3_conv3 (Conv2D)       (None, 56, 56, 256)       590080    \n",
      "                                                                 \n",
      " block3_pool (MaxPooling2D)  (None, 28, 28, 256)       0         \n",
      "                                                                 \n",
      " block4_conv1 (Conv2D)       (None, 28, 28, 512)       1180160   \n",
      "                                                                 \n",
      " block4_conv2 (Conv2D)       (None, 28, 28, 512)       2359808   \n",
      "                                                                 \n",
      " block4_conv3 (Conv2D)       (None, 28, 28, 512)       2359808   \n",
      "                                                                 \n",
      " block4_pool (MaxPooling2D)  (None, 14, 14, 512)       0         \n",
      "                                                                 \n",
      " block5_conv1 (Conv2D)       (None, 14, 14, 512)       2359808   \n",
      "                                                                 \n",
      " block5_conv2 (Conv2D)       (None, 14, 14, 512)       2359808   \n",
      "                                                                 \n",
      " block5_conv3 (Conv2D)       (None, 14, 14, 512)       2359808   \n",
      "                                                                 \n",
      " block5_pool (MaxPooling2D)  (None, 7, 7, 512)         0         \n",
      "                                                                 \n",
      "=================================================================\n",
      "Total params: 14,714,688\n",
      "Trainable params: 0\n",
      "Non-trainable params: 14,714,688\n",
      "_________________________________________________________________\n"
     ]
    }
   ],
   "source": [
    "vgg16_base.summary()"
   ]
  },
  {
   "cell_type": "code",
   "execution_count": 18,
   "id": "460b24cb-b109-4ae0-8143-06dbf708ee2c",
   "metadata": {},
   "outputs": [],
   "source": [
    "# Define L2 regularization strength\n",
    "l2_strength = 0.01\n",
    "\n",
    "# Create the model\n",
    "x = vgg16_base.output\n",
    "x = Flatten()(x)\n",
    "x = Dense(units=256, activation='relu', kernel_regularizer=tf.keras.regularizers.l2(l2_strength))(x)\n",
    "x = Dropout(0.2)(x)\n",
    "x = Dense(units=128, activation='relu', kernel_regularizer=tf.keras.regularizers.l2(l2_strength))(x)\n",
    "x = Dense(units=2, activation='softmax')(x)"
   ]
  },
  {
   "cell_type": "code",
   "execution_count": 19,
   "id": "19874805-0f87-4633-8897-2fb646d7e4c5",
   "metadata": {},
   "outputs": [],
   "source": [
    "model = tf.keras.Model(inputs=vgg16_base.input, outputs=x)"
   ]
  },
  {
   "cell_type": "code",
   "execution_count": 20,
   "id": "93afc0da-5460-45e9-a046-762551c7082d",
   "metadata": {},
   "outputs": [
    {
     "name": "stdout",
     "output_type": "stream",
     "text": [
      "Model: \"model\"\n",
      "_________________________________________________________________\n",
      " Layer (type)                Output Shape              Param #   \n",
      "=================================================================\n",
      " input_2 (InputLayer)        [(None, 224, 224, 3)]     0         \n",
      "                                                                 \n",
      " block1_conv1 (Conv2D)       (None, 224, 224, 64)      1792      \n",
      "                                                                 \n",
      " block1_conv2 (Conv2D)       (None, 224, 224, 64)      36928     \n",
      "                                                                 \n",
      " block1_pool (MaxPooling2D)  (None, 112, 112, 64)      0         \n",
      "                                                                 \n",
      " block2_conv1 (Conv2D)       (None, 112, 112, 128)     73856     \n",
      "                                                                 \n",
      " block2_conv2 (Conv2D)       (None, 112, 112, 128)     147584    \n",
      "                                                                 \n",
      " block2_pool (MaxPooling2D)  (None, 56, 56, 128)       0         \n",
      "                                                                 \n",
      " block3_conv1 (Conv2D)       (None, 56, 56, 256)       295168    \n",
      "                                                                 \n",
      " block3_conv2 (Conv2D)       (None, 56, 56, 256)       590080    \n",
      "                                                                 \n",
      " block3_conv3 (Conv2D)       (None, 56, 56, 256)       590080    \n",
      "                                                                 \n",
      " block3_pool (MaxPooling2D)  (None, 28, 28, 256)       0         \n",
      "                                                                 \n",
      " block4_conv1 (Conv2D)       (None, 28, 28, 512)       1180160   \n",
      "                                                                 \n",
      " block4_conv2 (Conv2D)       (None, 28, 28, 512)       2359808   \n",
      "                                                                 \n",
      " block4_conv3 (Conv2D)       (None, 28, 28, 512)       2359808   \n",
      "                                                                 \n",
      " block4_pool (MaxPooling2D)  (None, 14, 14, 512)       0         \n",
      "                                                                 \n",
      " block5_conv1 (Conv2D)       (None, 14, 14, 512)       2359808   \n",
      "                                                                 \n",
      " block5_conv2 (Conv2D)       (None, 14, 14, 512)       2359808   \n",
      "                                                                 \n",
      " block5_conv3 (Conv2D)       (None, 14, 14, 512)       2359808   \n",
      "                                                                 \n",
      " block5_pool (MaxPooling2D)  (None, 7, 7, 512)         0         \n",
      "                                                                 \n",
      " flatten (Flatten)           (None, 25088)             0         \n",
      "                                                                 \n",
      " dense (Dense)               (None, 256)               6422784   \n",
      "                                                                 \n",
      " dropout (Dropout)           (None, 256)               0         \n",
      "                                                                 \n",
      " dense_1 (Dense)             (None, 128)               32896     \n",
      "                                                                 \n",
      " dense_2 (Dense)             (None, 2)                 258       \n",
      "                                                                 \n",
      "=================================================================\n",
      "Total params: 21,170,626\n",
      "Trainable params: 6,455,938\n",
      "Non-trainable params: 14,714,688\n",
      "_________________________________________________________________\n"
     ]
    }
   ],
   "source": [
    "model.summary()"
   ]
  },
  {
   "cell_type": "code",
   "execution_count": 21,
   "id": "3df7197e-f6ed-4641-afc8-5d188b38b920",
   "metadata": {},
   "outputs": [],
   "source": [
    "model.compile(optimizer='adam', loss='categorical_crossentropy', metrics=['accuracy'])"
   ]
  },
  {
   "cell_type": "code",
   "execution_count": 22,
   "id": "02f37d95-649d-4e8f-b11b-718ec640978e",
   "metadata": {},
   "outputs": [],
   "source": [
    "# Define early stopping callback\n",
    "early_stopping = tf.keras.callbacks.EarlyStopping(\n",
    "    monitor='val_loss', patience=2, restore_best_weights=True\n",
    ")"
   ]
  },
  {
   "cell_type": "code",
   "execution_count": 23,
   "id": "31daa25c-d362-4fdd-954f-cc64451ba93b",
   "metadata": {},
   "outputs": [
    {
     "name": "stdout",
     "output_type": "stream",
     "text": [
      "Epoch 1/3\n",
      "1400/1400 [==============================] - 396s 277ms/step - loss: 2.9310 - accuracy: 0.7200 - val_loss: 1.1838 - val_accuracy: 0.7863\n",
      "Epoch 2/3\n",
      "1400/1400 [==============================] - 384s 274ms/step - loss: 1.0649 - accuracy: 0.7787 - val_loss: 0.8405 - val_accuracy: 0.8022\n",
      "Epoch 3/3\n",
      "1400/1400 [==============================] - 397s 283ms/step - loss: 0.8648 - accuracy: 0.7941 - val_loss: 0.6882 - val_accuracy: 0.8067\n"
     ]
    }
   ],
   "source": [
    "history = model.fit(\n",
    "    train_batches,              # Training data\n",
    "    validation_data=valid_batches,  # Validation data\n",
    "    epochs=3,                  # Number of epochs\n",
    "    batch_size=20,             # Batch size\n",
    "    callbacks=[early_stopping]  # Early stopping callback\n",
    ")\n"
   ]
  },
  {
   "cell_type": "code",
   "execution_count": 24,
   "id": "251e7618-acd8-45ec-885b-8b35f8747b03",
   "metadata": {},
   "outputs": [
    {
     "data": {
      "image/png": "[encoded data removed]",
      "text/plain": [
       "<Figure size 1200x600 with 2 Axes>"
      ]
     },
     "metadata": {},
     "output_type": "display_data"
    }
   ],
   "source": [
    "%matplotlib inline\n",
    "import matplotlib.pyplot as plt\n",
    "\n",
    "# Plot training & validation accuracy values\n",
    "plt.figure(figsize=(12, 6))\n",
    "\n",
    "plt.subplot(1, 2, 1)\n",
    "plt.plot(history.history['accuracy'])\n",
    "plt.plot(history.history['val_accuracy'])\n",
    "plt.title('Model Accuracy')\n",
    "plt.xlabel('Epoch')\n",
    "plt.ylabel('Accuracy')\n",
    "plt.legend(['Train', 'Validation'])\n",
    "\n",
    "# Plot training & validation loss values\n",
    "plt.subplot(1, 2, 2)\n",
    "plt.plot(history.history['loss'])\n",
    "plt.plot(history.history['val_loss'])\n",
    "plt.title('Model Loss')\n",
    "plt.xlabel('Epoch')\n",
    "plt.ylabel('Loss')\n",
    "plt.legend(['Train', 'Validation'])\n",
    "\n",
    "plt.show()\n"
   ]
  },
  {
   "cell_type": "code",
   "execution_count": 25,
   "id": "4fcd98a9-b139-45fb-a3cc-5ddbcba44fa8",
   "metadata": {},
   "outputs": [
    {
     "name": "stdout",
     "output_type": "stream",
     "text": [
      "Model saved as ake_image_vgg16_model_V2.h5\n"
     ]
    }
   ],
   "source": [
    "model.save('models/fake_image_vgg16_model_V2.h5')\n",
    "print(\"Model saved as ake_image_vgg16_model_V2.h5\")"
   ]
  },
  {
   "cell_type": "code",
   "execution_count": 26,
   "id": "271e081d-91bd-49c4-a119-7273c74af1cd",
   "metadata": {},
   "outputs": [
    {
     "data": {
      "text/plain": [
       "{'Real': 0, 'Fake': 1}"
      ]
     },
     "execution_count": 26,
     "metadata": {},
     "output_type": "execute_result"
    }
   ],
   "source": [
    "test_batches.class_indices"
   ]
  },
  {
   "cell_type": "code",
   "execution_count": 27,
   "id": "1b076e05-e7ac-4278-8c8f-91d32b4e8182",
   "metadata": {},
   "outputs": [],
   "source": [
    "predictions = model.predict(x=test_batches,verbose=0)"
   ]
  },
  {
   "cell_type": "code",
   "execution_count": 28,
   "id": "4fad99f3-bd52-45e6-9d04-b0b10083d22c",
   "metadata": {},
   "outputs": [],
   "source": [
    "predicted_classes = np.argmax(predictions, axis=1)"
   ]
  },
  {
   "cell_type": "code",
   "execution_count": 29,
   "id": "fee89c66-ca73-41e2-9490-7185cdb97b96",
   "metadata": {},
   "outputs": [],
   "source": [
    "true_labels = test_batches.classes"
   ]
  },
  {
   "cell_type": "code",
   "execution_count": 30,
   "id": "e37a320a-c0d5-4dbf-b86b-4750ee3984de",
   "metadata": {},
   "outputs": [],
   "source": [
    "accuracy = accuracy_score(true_labels, predicted_classes)"
   ]
  },
  {
   "cell_type": "code",
   "execution_count": 31,
   "id": "74c8b8db-5c44-47b0-8a27-83bb6a9fae01",
   "metadata": {},
   "outputs": [
    {
     "name": "stdout",
     "output_type": "stream",
     "text": [
      "Test Data Accuracy: 0.8113\n"
     ]
    }
   ],
   "source": [
    "print(f'Test Data Accuracy: {accuracy:.4f}')"
   ]
  },
  {
   "cell_type": "code",
   "execution_count": null,
   "id": "71a23745-6c0f-4550-aea1-e0e64021958c",
   "metadata": {},
   "outputs": [],
   "source": []
  },
  {
   "cell_type": "code",
   "execution_count": null,
   "id": "0d18db99-ef21-45d9-be28-77620e9eab47",
   "metadata": {},
   "outputs": [],
   "source": []
  },
  {
   "cell_type": "code",
   "execution_count": 9,
   "id": "4ab9a0f5-7e3b-41f9-a058-5b028e9c675a",
   "metadata": {},
   "outputs": [],
   "source": [
    "import tensorflow as tf\n",
    "from tensorflow.keras.layers import Flatten, Dense, Dropout\n",
    "from tensorflow.keras.models import Model\n",
    "from tensorflow.keras.regularizers import l2\n",
    "from tensorflow.keras.optimizers import Adam"
   ]
  },
  {
   "cell_type": "code",
   "execution_count": 3,
   "id": "ba0b5977-a33a-4f69-9f8c-2f31d893e0bc",
   "metadata": {},
   "outputs": [],
   "source": [
    "vgg16_base = tf.keras.applications.VGG16(weights='imagenet', include_top=False, input_shape=(224, 224, 3))"
   ]
  },
  {
   "cell_type": "code",
   "execution_count": 4,
   "id": "92f96487-697a-4e56-8e97-cde8305112d3",
   "metadata": {},
   "outputs": [],
   "source": [
    "x = vgg16_base.output\n",
    "x = Flatten()(x)\n",
    "x = Dense(units=256, activation='relu', kernel_regularizer=l2(0.01))(x)  # Added L2 regularization\n",
    "x = Dropout(0.2)(x)  # Dropout layer with 20% dropout rate\n",
    "x = Dense(units=128, activation='relu', kernel_regularizer=l2(0.01))(x)  # Added L2 regularization\n",
    "x = Dense(units=2, activation='softmax')(x)"
   ]
  },
  {
   "cell_type": "code",
   "execution_count": 6,
   "id": "be8f7045-d2a6-47e3-82e2-20f41ce09a01",
   "metadata": {},
   "outputs": [],
   "source": [
    "model = Model(inputs=vgg16_base.input, outputs=x)"
   ]
  },
  {
   "cell_type": "code",
   "execution_count": 10,
   "id": "ddbbee02-5511-473b-a803-6a6404a01642",
   "metadata": {},
   "outputs": [],
   "source": [
    "model.compile(optimizer=Adam(learning_rate=0.0001), loss='categorical_crossentropy', metrics=['accuracy'])"
   ]
  },
  {
   "cell_type": "code",
   "execution_count": 12,
   "id": "98c988d6-0ec3-4f39-ab56-a73f6473c9ea",
   "metadata": {},
   "outputs": [],
   "source": [
    "early_stopping = tf.keras.callbacks.EarlyStopping(monitor='val_loss', patience=2, restore_best_weights=True)"
   ]
  },
  {
   "cell_type": "code",
   "execution_count": 13,
   "id": "20b65d9f-91bc-4ad0-bfd8-f85de4531586",
   "metadata": {},
   "outputs": [
    {
     "name": "stdout",
     "output_type": "stream",
     "text": [
      "Model: \"model\"\n",
      "_________________________________________________________________\n",
      " Layer (type)                Output Shape              Param #   \n",
      "=================================================================\n",
      " input_1 (InputLayer)        [(None, 224, 224, 3)]     0         \n",
      "                                                                 \n",
      " block1_conv1 (Conv2D)       (None, 224, 224, 64)      1792      \n",
      "                                                                 \n",
      " block1_conv2 (Conv2D)       (None, 224, 224, 64)      36928     \n",
      "                                                                 \n",
      " block1_pool (MaxPooling2D)  (None, 112, 112, 64)      0         \n",
      "                                                                 \n",
      " block2_conv1 (Conv2D)       (None, 112, 112, 128)     73856     \n",
      "                                                                 \n",
      " block2_conv2 (Conv2D)       (None, 112, 112, 128)     147584    \n",
      "                                                                 \n",
      " block2_pool (MaxPooling2D)  (None, 56, 56, 128)       0         \n",
      "                                                                 \n",
      " block3_conv1 (Conv2D)       (None, 56, 56, 256)       295168    \n",
      "                                                                 \n",
      " block3_conv2 (Conv2D)       (None, 56, 56, 256)       590080    \n",
      "                                                                 \n",
      " block3_conv3 (Conv2D)       (None, 56, 56, 256)       590080    \n",
      "                                                                 \n",
      " block3_pool (MaxPooling2D)  (None, 28, 28, 256)       0         \n",
      "                                                                 \n",
      " block4_conv1 (Conv2D)       (None, 28, 28, 512)       1180160   \n",
      "                                                                 \n",
      " block4_conv2 (Conv2D)       (None, 28, 28, 512)       2359808   \n",
      "                                                                 \n",
      " block4_conv3 (Conv2D)       (None, 28, 28, 512)       2359808   \n",
      "                                                                 \n",
      " block4_pool (MaxPooling2D)  (None, 14, 14, 512)       0         \n",
      "                                                                 \n",
      " block5_conv1 (Conv2D)       (None, 14, 14, 512)       2359808   \n",
      "                                                                 \n",
      " block5_conv2 (Conv2D)       (None, 14, 14, 512)       2359808   \n",
      "                                                                 \n",
      " block5_conv3 (Conv2D)       (None, 14, 14, 512)       2359808   \n",
      "                                                                 \n",
      " block5_pool (MaxPooling2D)  (None, 7, 7, 512)         0         \n",
      "                                                                 \n",
      " flatten (Flatten)           (None, 25088)             0         \n",
      "                                                                 \n",
      " dense (Dense)               (None, 256)               6422784   \n",
      "                                                                 \n",
      " dropout (Dropout)           (None, 256)               0         \n",
      "                                                                 \n",
      " dense_1 (Dense)             (None, 128)               32896     \n",
      "                                                                 \n",
      " dense_2 (Dense)             (None, 2)                 258       \n",
      "                                                                 \n",
      "=================================================================\n",
      "Total params: 21,170,626\n",
      "Trainable params: 21,170,626\n",
      "Non-trainable params: 0\n",
      "_________________________________________________________________\n"
     ]
    }
   ],
   "source": [
    "model.summary()"
   ]
  },
  {
   "cell_type": "code",
   "execution_count": null,
   "id": "513f0c5c-ce49-4531-b5ce-69757e291ac6",
   "metadata": {},
   "outputs": [
    {
     "name": "stdout",
     "output_type": "stream",
     "text": [
      "Epoch 1/3\n",
      "   2/1400 [..............................] - ETA: 6:39:21 - loss: 7.9230 - accuracy: 0.5750"
     ]
    }
   ],
   "source": [
    "history = model.fit(\n",
    "    train_batches,\n",
    "    validation_data=valid_batches,\n",
    "    epochs=3,\n",
    "    batch_size=10,  # Updated batch size\n",
    "    callbacks=[early_stopping]\n",
    ")"
   ]
  },
  {
   "cell_type": "code",
   "execution_count": null,
   "id": "80667809-8336-450b-97e9-79ee447d4c71",
   "metadata": {},
   "outputs": [],
   "source": []
  }
 ],
 "metadata": {
  "kernelspec": {
   "display_name": "Python 3 (ipykernel)",
   "language": "python",
   "name": "python3"
  },
  "language_info": {
   "codemirror_mode": {
    "name": "ipython",
    "version": 3
   },
   "file_extension": ".py",
   "mimetype": "text/x-python",
   "name": "python",
   "nbconvert_exporter": "python",
   "pygments_lexer": "ipython3",
   "version": "3.8.19"
  }
 },
 "nbformat": 4,
 "nbformat_minor": 5
}
